{
 "cells": [
  {
   "cell_type": "code",
   "execution_count": 1,
   "metadata": {},
   "outputs": [],
   "source": [
    "%load_ext autoreload\n",
    "%autoreload 2\n",
    "\n",
    "from train_helpers import set_up_hyperparams, load_vaes\n",
    "from data import set_up_data"
   ]
  },
  {
   "cell_type": "code",
   "execution_count": 7,
   "metadata": {},
   "outputs": [
    {
     "name": "stdout",
     "output_type": "stream",
     "text": [
      "unknown []\n",
      "None\n",
      "unknown2 []\n"
     ]
    },
    {
     "ename": "TypeError",
     "evalue": "load_vaes() missing 1 required positional argument: 'logprint'",
     "output_type": "error",
     "traceback": [
      "\u001b[0;31m---------------------------------------------------------------------------\u001b[0m",
      "\u001b[0;31mTypeError\u001b[0m                                 Traceback (most recent call last)",
      "\u001b[1;32m/disk2/Projects/vdvae/test.ipynb Cell 2\u001b[0m in \u001b[0;36m<cell line: 4>\u001b[0;34m()\u001b[0m\n\u001b[1;32m      <a href='vscode-notebook-cell://ssh-remote%2Basync2/disk2/Projects/vdvae/test.ipynb#W1sdnNjb2RlLXJlbW90ZQ%3D%3D?line=0'>1</a>\u001b[0m H \u001b[39m=\u001b[39m set_up_hyperparams(\u001b[39m'\u001b[39m\u001b[39m'\u001b[39m)\n\u001b[1;32m      <a href='vscode-notebook-cell://ssh-remote%2Basync2/disk2/Projects/vdvae/test.ipynb#W1sdnNjb2RlLXJlbW90ZQ%3D%3D?line=2'>3</a>\u001b[0m \u001b[39m# H, data_train, ,;data_valid_or_test, preprocess_fn = set_up_data(H)\u001b[39;00m\n\u001b[0;32m----> <a href='vscode-notebook-cell://ssh-remote%2Basync2/disk2/Projects/vdvae/test.ipynb#W1sdnNjb2RlLXJlbW90ZQ%3D%3D?line=3'>4</a>\u001b[0m vae, ema_vae \u001b[39m=\u001b[39m load_vaes(H)\n",
      "\u001b[0;31mTypeError\u001b[0m: load_vaes() missing 1 required positional argument: 'logprint'"
     ]
    }
   ],
   "source": [
    "\n",
    "H = set_up_hyperparams('')\n",
    "\n",
    "# H, data_train, ,;data_valid_or_test, preprocess_fn = set_up_data(H)\n",
    "vae, ema_vae = load_vaes(H)"
   ]
  },
  {
   "cell_type": "code",
   "execution_count": null,
   "metadata": {},
   "outputs": [],
   "source": []
  }
 ],
 "metadata": {
  "kernelspec": {
   "display_name": "fancyimpute",
   "language": "python",
   "name": "fancyimpute"
  },
  "language_info": {
   "codemirror_mode": {
    "name": "ipython",
    "version": 3
   },
   "file_extension": ".py",
   "mimetype": "text/x-python",
   "name": "python",
   "nbconvert_exporter": "python",
   "pygments_lexer": "ipython3",
   "version": "3.9.12"
  },
  "orig_nbformat": 4,
  "vscode": {
   "interpreter": {
    "hash": "9fa79378f787abe74f2db7948cc51e4f7cf28743ec4ee36e3bf4823f5856609c"
   }
  }
 },
 "nbformat": 4,
 "nbformat_minor": 2
}
